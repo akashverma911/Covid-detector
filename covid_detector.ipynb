{
  "nbformat": 4,
  "nbformat_minor": 0,
  "metadata": {
    "colab": {
      "name": "covid_detector.ipynb",
      "provenance": [],
      "collapsed_sections": [],
      "mount_file_id": "1bBdUdyCEiAYe_dW9YxWFNuPLcykTem8e",
      "authorship_tag": "ABX9TyPUpeHk+VpjS99F0sIAreDC",
      "include_colab_link": true
    },
    "kernelspec": {
      "name": "python3",
      "display_name": "Python 3"
    },
    "language_info": {
      "name": "python"
    },
    "accelerator": "TPU"
  },
  "cells": [
    {
      "cell_type": "markdown",
      "metadata": {
        "id": "view-in-github",
        "colab_type": "text"
      },
      "source": [
        "<a href=\"https://colab.research.google.com/github/akashverma911/Covid-detector/blob/master/covid_detector.ipynb\" target=\"_parent\"><img src=\"https://colab.research.google.com/assets/colab-badge.svg\" alt=\"Open In Colab\"/></a>"
      ]
    },
    {
      "cell_type": "code",
      "metadata": {
        "id": "WxZS0AHCzpZF"
      },
      "source": [
        "TRAIN_PATH = \"drive/MyDrive/Dataset/Train\"\n",
        "VAL_PATH = \"drive/MyDrive/Dataset/Test\"  "
      ],
      "execution_count": null,
      "outputs": []
    },
    {
      "cell_type": "code",
      "metadata": {
        "id": "zijGRKpr0R_8"
      },
      "source": [
        "import numpy as np\n",
        "import pandas as pd\n",
        "import matplotlib.pyplot as plt\n",
        "import keras\n",
        "from keras.layers import *\n",
        "from keras.models import * \n",
        "from keras.preprocessing import image"
      ],
      "execution_count": null,
      "outputs": []
    },
    {
      "cell_type": "code",
      "metadata": {
        "id": "Wa1T4SOIdT4W"
      },
      "source": [
        "model = Sequential()\n",
        "model.add(Conv2D(32,kernel_size=(3,3),activation='relu',input_shape=(224,224,3)))\n",
        "model.add(Conv2D(64,(3,3),activation='relu'))\n",
        "model.add(MaxPooling2D(pool_size=(2,2)))\n",
        "model.add(Dropout(0.25))\n",
        "\n",
        "model.add(Conv2D(64,(3,3),activation='relu'))\n",
        "model.add(MaxPooling2D(pool_size=(2,2)))\n",
        "model.add(Dropout(0.25))\n",
        "\n",
        "model.add(Conv2D(128,(3,3),activation='relu'))\n",
        "model.add(MaxPooling2D(pool_size=(2,2)))\n",
        "model.add(Dropout(0.25))\n",
        "\n",
        "model.add(Flatten())\n",
        "model.add(Dense(64,activation='relu'))\n",
        "model.add(Dropout(0.5))\n",
        "model.add(Dense(1,activation='sigmoid'))\n",
        "\n",
        "model.compile(loss=keras.losses.binary_crossentropy,optimizer='adam',metrics=['accuracy'])"
      ],
      "execution_count": null,
      "outputs": []
    },
    {
      "cell_type": "code",
      "metadata": {
        "id": "lo7pRjIuddWP"
      },
      "source": [
        "train_datagen = image.ImageDataGenerator(\n",
        "    rescale = 1./255,\n",
        "    shear_range = 0.2,\n",
        "    zoom_range = 0.2,\n",
        "    horizontal_flip = True,\n",
        ")\n",
        "\n",
        "test_dataset = image.ImageDataGenerator(rescale=1./255)"
      ],
      "execution_count": null,
      "outputs": []
    },
    {
      "cell_type": "code",
      "metadata": {
        "colab": {
          "base_uri": "https://localhost:8080/"
        },
        "id": "OW_ot_iAdeRI",
        "outputId": "e83681fa-acf2-464c-caeb-9c90806ed326"
      },
      "source": [
        "train_generator = train_datagen.flow_from_directory(\n",
        "    'drive/MyDrive/Dataset/Train',\n",
        "    target_size = (224,224),\n",
        "    batch_size = 32,\n",
        "    class_mode = 'binary')"
      ],
      "execution_count": null,
      "outputs": [
        {
          "output_type": "stream",
          "text": [
            "Found 299 images belonging to 2 classes.\n"
          ],
          "name": "stdout"
        }
      ]
    },
    {
      "cell_type": "code",
      "metadata": {
        "colab": {
          "base_uri": "https://localhost:8080/"
        },
        "id": "0QpaVQ89fDeg",
        "outputId": "46018625-fc2f-45ba-ae7e-951273a9dbf9"
      },
      "source": [
        "train_generator.class_indices"
      ],
      "execution_count": null,
      "outputs": [
        {
          "output_type": "execute_result",
          "data": {
            "text/plain": [
              "{'Covid': 0, 'Normal': 1}"
            ]
          },
          "metadata": {
            "tags": []
          },
          "execution_count": 6
        }
      ]
    },
    {
      "cell_type": "code",
      "metadata": {
        "colab": {
          "base_uri": "https://localhost:8080/"
        },
        "id": "UfmbS45WfIah",
        "outputId": "130241d5-8bb1-4c74-8e21-e7c695b89bcf"
      },
      "source": [
        "validation_generator = test_dataset.flow_from_directory(\n",
        "    'drive/MyDrive/Dataset/Test',\n",
        "    target_size = (224,224),\n",
        "    batch_size = 32,\n",
        "    class_mode = 'binary')"
      ],
      "execution_count": null,
      "outputs": [
        {
          "output_type": "stream",
          "text": [
            "Found 74 images belonging to 2 classes.\n"
          ],
          "name": "stdout"
        }
      ]
    },
    {
      "cell_type": "code",
      "metadata": {
        "colab": {
          "base_uri": "https://localhost:8080/"
        },
        "id": "G9FLGnKafKoF",
        "outputId": "d0aec707-4882-4058-b3a0-b53ab99051fc"
      },
      "source": [
        "hist = model.fit_generator(\n",
        "    train_generator,\n",
        "    steps_per_epoch=8,\n",
        "    epochs = 10,\n",
        "    validation_data = validation_generator,\n",
        "    validation_steps=2\n",
        ")"
      ],
      "execution_count": null,
      "outputs": [
        {
          "output_type": "stream",
          "text": [
            "/usr/local/lib/python3.7/dist-packages/keras/engine/training.py:1915: UserWarning: `Model.fit_generator` is deprecated and will be removed in a future version. Please use `Model.fit`, which supports generators.\n",
            "  warnings.warn('`Model.fit_generator` is deprecated and '\n"
          ],
          "name": "stderr"
        },
        {
          "output_type": "stream",
          "text": [
            "Epoch 1/10\n",
            "8/8 [==============================] - 118s 14s/step - loss: 0.7905 - accuracy: 0.5867 - val_loss: 0.6600 - val_accuracy: 0.5156\n",
            "Epoch 2/10\n",
            "8/8 [==============================] - 75s 9s/step - loss: 0.5571 - accuracy: 0.7437 - val_loss: 0.5235 - val_accuracy: 0.9688\n",
            "Epoch 3/10\n",
            "8/8 [==============================] - 73s 9s/step - loss: 0.3838 - accuracy: 0.8222 - val_loss: 0.2473 - val_accuracy: 0.9844\n",
            "Epoch 4/10\n",
            "8/8 [==============================] - 73s 9s/step - loss: 0.2929 - accuracy: 0.8844 - val_loss: 0.3036 - val_accuracy: 1.0000\n",
            "Epoch 5/10\n",
            "8/8 [==============================] - 74s 9s/step - loss: 0.2780 - accuracy: 0.8929 - val_loss: 0.3444 - val_accuracy: 0.9844\n",
            "Epoch 6/10\n",
            "8/8 [==============================] - 79s 10s/step - loss: 0.2079 - accuracy: 0.9299 - val_loss: 0.0915 - val_accuracy: 0.9844\n",
            "Epoch 7/10\n",
            "8/8 [==============================] - 73s 9s/step - loss: 0.1481 - accuracy: 0.9510 - val_loss: 0.0837 - val_accuracy: 0.9844\n",
            "Epoch 8/10\n",
            "8/8 [==============================] - 73s 9s/step - loss: 0.1322 - accuracy: 0.9597 - val_loss: 0.1898 - val_accuracy: 0.9844\n",
            "Epoch 9/10\n",
            "8/8 [==============================] - 73s 9s/step - loss: 0.1508 - accuracy: 0.9594 - val_loss: 0.0290 - val_accuracy: 1.0000\n",
            "Epoch 10/10\n",
            "8/8 [==============================] - 73s 9s/step - loss: 0.1034 - accuracy: 0.9542 - val_loss: 0.0687 - val_accuracy: 0.9844\n"
          ],
          "name": "stdout"
        }
      ]
    },
    {
      "cell_type": "code",
      "metadata": {
        "id": "EkDeqMY8fTZr"
      },
      "source": [
        "data_output = pd.DataFrame(model.history.history)"
      ],
      "execution_count": null,
      "outputs": []
    },
    {
      "cell_type": "code",
      "metadata": {
        "colab": {
          "base_uri": "https://localhost:8080/",
          "height": 282
        },
        "id": "McOTkOtQn25j",
        "outputId": "3d470348-5d0a-4186-88c3-24471655af9c"
      },
      "source": [
        "plt.plot(data_output['accuracy'],label='accu')\n",
        "plt.plot(data_output['val_accuracy'])\n",
        "plt.plot(data_output['val_loss'])\n",
        "plt.plot(data_output['loss'])"
      ],
      "execution_count": null,
      "outputs": [
        {
          "output_type": "execute_result",
          "data": {
            "text/plain": [
              "[<matplotlib.lines.Line2D at 0x7faace070850>]"
            ]
          },
          "metadata": {
            "tags": []
          },
          "execution_count": 10
        },
        {
          "output_type": "display_data",
          "data": {
            "image/png": "[encoded data removed]",
            "text/plain": [
              "<Figure size 432x288 with 1 Axes>"
            ]
          },
          "metadata": {
            "tags": [],
            "needs_background": "light"
          }
        }
      ]
    },
    {
      "cell_type": "code",
      "metadata": {
        "colab": {
          "base_uri": "https://localhost:8080/"
        },
        "id": "zTsbMQwYo4qN",
        "outputId": "fffe6d41-3753-4b06-bbf4-673fc323c55a"
      },
      "source": [
        "from tensorflow.keras.preprocessing import image\n",
        "pred_probabilities = model.predict_generator(validation_generator)"
      ],
      "execution_count": null,
      "outputs": [
        {
          "output_type": "stream",
          "text": [
            "/usr/local/lib/python3.7/dist-packages/keras/engine/training.py:1976: UserWarning: `Model.predict_generator` is deprecated and will be removed in a future version. Please use `Model.predict`, which supports generators.\n",
            "  warnings.warn('`Model.predict_generator` is deprecated and '\n"
          ],
          "name": "stderr"
        }
      ]
    },
    {
      "cell_type": "code",
      "metadata": {
        "colab": {
          "base_uri": "https://localhost:8080/"
        },
        "id": "pXSfp_XDvD7S",
        "outputId": "56cadd55-e609-4fe0-c3d4-0170c06d2f81"
      },
      "source": [
        "pred_probabilities"
      ],
      "execution_count": null,
      "outputs": [
        {
          "output_type": "execute_result",
          "data": {
            "text/plain": [
              "array([[1.4493495e-02],\n",
              "       [9.3105280e-01],\n",
              "       [2.3019713e-01],\n",
              "       [9.7584128e-01],\n",
              "       [2.1541417e-03],\n",
              "       [5.8400631e-04],\n",
              "       [6.8663019e-01],\n",
              "       [8.5287356e-01],\n",
              "       [8.9239675e-01],\n",
              "       [9.8634595e-01],\n",
              "       [2.4629354e-02],\n",
              "       [9.8819214e-01],\n",
              "       [9.9091673e-01],\n",
              "       [5.5993527e-02],\n",
              "       [9.9233496e-01],\n",
              "       [3.7395030e-02],\n",
              "       [9.8886299e-01],\n",
              "       [9.3268585e-01],\n",
              "       [9.6739161e-01],\n",
              "       [9.4781357e-01],\n",
              "       [5.6054085e-02],\n",
              "       [9.7651733e-05],\n",
              "       [9.6107185e-01],\n",
              "       [3.2520592e-03],\n",
              "       [9.6803892e-01],\n",
              "       [6.0509145e-02],\n",
              "       [2.8897226e-03],\n",
              "       [1.1728704e-03],\n",
              "       [8.5891950e-01],\n",
              "       [4.6241879e-03],\n",
              "       [9.8469186e-01],\n",
              "       [6.9168508e-03],\n",
              "       [2.9096007e-04],\n",
              "       [3.1017065e-02],\n",
              "       [9.8092133e-01],\n",
              "       [1.0681848e-04],\n",
              "       [1.7883778e-03],\n",
              "       [2.7783811e-02],\n",
              "       [9.6427774e-01],\n",
              "       [9.1123289e-01],\n",
              "       [1.5137196e-03],\n",
              "       [9.6095520e-01],\n",
              "       [6.5892041e-03],\n",
              "       [3.6256909e-03],\n",
              "       [9.7155517e-01],\n",
              "       [1.1276662e-02],\n",
              "       [1.5303284e-02],\n",
              "       [9.3790197e-01],\n",
              "       [6.6950619e-03],\n",
              "       [4.4964433e-02],\n",
              "       [8.4840167e-01],\n",
              "       [9.9128556e-01],\n",
              "       [3.3712685e-03],\n",
              "       [2.6002526e-04],\n",
              "       [9.1389489e-01],\n",
              "       [9.9091673e-01],\n",
              "       [9.2634439e-01],\n",
              "       [9.8819780e-01],\n",
              "       [9.3369204e-01],\n",
              "       [9.9089789e-01],\n",
              "       [2.7790308e-02],\n",
              "       [4.1826367e-03],\n",
              "       [5.2408963e-02],\n",
              "       [6.2154233e-03],\n",
              "       [9.2213506e-01],\n",
              "       [9.2536461e-01],\n",
              "       [1.7637014e-03],\n",
              "       [8.4221363e-04],\n",
              "       [7.2883588e-01],\n",
              "       [4.2018294e-03],\n",
              "       [8.6679614e-01],\n",
              "       [9.1561627e-01],\n",
              "       [9.9071372e-01],\n",
              "       [1.2043321e-01]], dtype=float32)"
            ]
          },
          "metadata": {
            "tags": []
          },
          "execution_count": 12
        }
      ]
    },
    {
      "cell_type": "code",
      "metadata": {
        "colab": {
          "base_uri": "https://localhost:8080/"
        },
        "id": "pVWUlIE-vH0P",
        "outputId": "b8fb46d7-5627-4bd2-f43c-d3256111ce14"
      },
      "source": [
        "predictions = pred_probabilities > 0.5\n",
        "predictions"
      ],
      "execution_count": null,
      "outputs": [
        {
          "output_type": "execute_result",
          "data": {
            "text/plain": [
              "array([[False],\n",
              "       [ True],\n",
              "       [False],\n",
              "       [ True],\n",
              "       [False],\n",
              "       [False],\n",
              "       [ True],\n",
              "       [ True],\n",
              "       [ True],\n",
              "       [ True],\n",
              "       [False],\n",
              "       [ True],\n",
              "       [ True],\n",
              "       [False],\n",
              "       [ True],\n",
              "       [False],\n",
              "       [ True],\n",
              "       [ True],\n",
              "       [ True],\n",
              "       [ True],\n",
              "       [False],\n",
              "       [False],\n",
              "       [ True],\n",
              "       [False],\n",
              "       [ True],\n",
              "       [False],\n",
              "       [False],\n",
              "       [False],\n",
              "       [ True],\n",
              "       [False],\n",
              "       [ True],\n",
              "       [False],\n",
              "       [False],\n",
              "       [False],\n",
              "       [ True],\n",
              "       [False],\n",
              "       [False],\n",
              "       [False],\n",
              "       [ True],\n",
              "       [ True],\n",
              "       [False],\n",
              "       [ True],\n",
              "       [False],\n",
              "       [False],\n",
              "       [ True],\n",
              "       [False],\n",
              "       [False],\n",
              "       [ True],\n",
              "       [False],\n",
              "       [False],\n",
              "       [ True],\n",
              "       [ True],\n",
              "       [False],\n",
              "       [False],\n",
              "       [ True],\n",
              "       [ True],\n",
              "       [ True],\n",
              "       [ True],\n",
              "       [ True],\n",
              "       [ True],\n",
              "       [False],\n",
              "       [False],\n",
              "       [False],\n",
              "       [False],\n",
              "       [ True],\n",
              "       [ True],\n",
              "       [False],\n",
              "       [False],\n",
              "       [ True],\n",
              "       [False],\n",
              "       [ True],\n",
              "       [ True],\n",
              "       [ True],\n",
              "       [False]])"
            ]
          },
          "metadata": {
            "tags": []
          },
          "execution_count": 13
        }
      ]
    },
    {
      "cell_type": "code",
      "metadata": {
        "id": "ryed9WMlvTj-"
      },
      "source": [
        "from sklearn.metrics import classification_report,confusion_matrix"
      ],
      "execution_count": null,
      "outputs": []
    },
    {
      "cell_type": "code",
      "metadata": {
        "colab": {
          "base_uri": "https://localhost:8080/"
        },
        "id": "i7b6MKZgvZhB",
        "outputId": "967af879-ba10-4d00-b464-87bfd2378dc4"
      },
      "source": [
        "print(classification_report(validation_generator.classes,predictions))"
      ],
      "execution_count": null,
      "outputs": [
        {
          "output_type": "stream",
          "text": [
            "              precision    recall  f1-score   support\n",
            "\n",
            "           0       0.49      0.50      0.49        36\n",
            "           1       0.51      0.50      0.51        38\n",
            "\n",
            "    accuracy                           0.50        74\n",
            "   macro avg       0.50      0.50      0.50        74\n",
            "weighted avg       0.50      0.50      0.50        74\n",
            "\n"
          ],
          "name": "stdout"
        }
      ]
    },
    {
      "cell_type": "code",
      "metadata": {
        "id": "yxH5Gw6kveVn"
      },
      "source": [
        "model.save(\"covid_detector_model.h5\")"
      ],
      "execution_count": null,
      "outputs": []
    },
    {
      "cell_type": "code",
      "metadata": {
        "id": "tV5KNeq1yS6F"
      },
      "source": [
        ""
      ],
      "execution_count": null,
      "outputs": []
    }
  ]
}